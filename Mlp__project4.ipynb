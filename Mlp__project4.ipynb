{
  "nbformat": 4,
  "nbformat_minor": 0,
  "metadata": {
    "colab": {
      "provenance": [],
      "include_colab_link": true
    },
    "kernelspec": {
      "name": "python3",
      "display_name": "Python 3"
    },
    "language_info": {
      "name": "python"
    }
  },
  "cells": [
    {
      "cell_type": "markdown",
      "metadata": {
        "id": "view-in-github",
        "colab_type": "text"
      },
      "source": [
        "<a href=\"https://colab.research.google.com/github/mnatasha1402/ML-projects/blob/main/Mlp__project4.ipynb\" target=\"_parent\"><img src=\"https://colab.research.google.com/assets/colab-badge.svg\" alt=\"Open In Colab\"/></a>"
      ]
    },
    {
      "cell_type": "markdown",
      "source": [
        "Assume that you are working in a consultancy company and one of your client is running an e-commerce company. They are interested in understanding the customer behavior regarding the shopping. They have already collected the users’ session data for a year. Each row belongs to a different user. The “Made_purchase” is an indicator that whether the user has made a purchase or not during that year. Your client is also interested in predicting that column using other attributes of the users. The client also informs you that the data is collected by non-experts. So, it might have some percentage of error in some columns.\n",
        "\n",
        "Columns The first six columns represent the different pages in the e-commerce website visited by a user from other sites.\n",
        "\n",
        "HomePage: Number of times visited this page\n",
        "\n",
        "HomePage_Duration: Total number of duration spent on this page.\n",
        "\n",
        "LandingPage: Number of times visited this page\n",
        "\n",
        "LandingPage_Duration: Total number of duration spent on this page.\n",
        "\n",
        "ProductDesriptionPage Number of times visited this page\n",
        "\n",
        "ProductDescriptionPage_Duration: Total number of duration spent on this page.\n",
        "\n",
        "GoogleMetric-Bounce Rate: Whenever a user comes to any one web-page of the website and he/she does not go to any other page and exits from the website from the same page, then this activity done by the user is called Bounce. And the percentage of the total number of times the user visiting our website and bounce it, is called Bounce Rate\n",
        "\n",
        "GoogleMetric-Exit Rate: The bounce rate is calculated based on the user exiting a website after visiting one page. But some users exit from the second, third, fourth, or any other page of our website, then those visitors’ data help determine the exit rate. The percentage of the total number of times the user to our website who do not exit from the first page (Landing Page) but exit after exploring other website pages is called the Exit Rate.\n",
        "\n",
        "GoogleMetric-Page Value: Page Value is the average value for a page that a user visited before landing on the goal page or completing an Ecommerce transaction.\n",
        "\n",
        "SeasonalPurchase: It is a weight indicator to track the seasonal purchase. If a user makes a purchase during any seasonal time (Mother’s Day, Diwali, Valentine's Day), we will assign based on internal heuristic.\n",
        "\n",
        "Month_ SeasonalPurchase: Month of the special day considered for seasonal purchase.\n",
        "\n",
        "The other attributes like, OS, Search Engine, Zone, Type of Traffic, Customer Type, Gender, Cookies Setting, Education, Marital Status and Weekend Purchase are self-explanatory variables"
      ],
      "metadata": {
        "id": "vqOofJTKAfgP"
      }
    },
    {
      "cell_type": "code",
      "execution_count": null,
      "metadata": {
        "id": "PVgZMr8SANvS"
      },
      "outputs": [],
      "source": [
        "import pandas as pd\n",
        "import numpy as np\n",
        "import seaborn as sns\n",
        "import matplotlib.pyplot as plt\n",
        "from sklearn.impute import SimpleImputer,KNNImputer\n",
        "from sklearn.preprocessing import LabelEncoder,StandardScaler,MinMaxScaler,OrdinalEncoder,PolynomialFeatures\n",
        "from sklearn.compose import ColumnTransformer\n",
        "from sklearn.pipeline import Pipeline,make_pipeline\n",
        "from sklearn.feature_selection import VarianceThreshold\n",
        "from sklearn.feature_selection import RFECV\n",
        "from sklearn.linear_model import SGDClassifier,LogisticRegression,RidgeClassifierCV\n",
        "from sklearn.ensemble import BaggingClassifier,AdaBoostClassifier,VotingClassifier,RandomForestClassifier,StackingClassifier\n",
        "from sklearn.tree import DecisionTreeClassifier\n",
        "from sklearn.model_selection import GridSearchCV,train_test_split\n",
        "from sklearn.svm import SVC,LinearSVC\n",
        "from sklearn.naive_bayes import GaussianNB,CategoricalNB\n",
        "# from sklearn.pipeline import"
      ]
    },
    {
      "cell_type": "code",
      "source": [
        "test_data=pd.read_csv(\"/content/test_data_v2.csv\")\n",
        "train_data=pd.read_csv('/content/train_data_v2.csv.zip')\n",
        "# test_data=pd.read_csv(\"/kaggle/input/e-commerce-shoppers-behaviour-understanding/test_data_v2.csv\")\n",
        "# train_data=pd.read_csv('/kaggle/input/\n",
        "test_data.isnull().sum()"
      ],
      "metadata": {
        "colab": {
          "base_uri": "https://localhost:8080/"
        },
        "id": "Gx3hgMdJAlLA",
        "outputId": "8d3d1df9-c11d-4b6b-d344-2713b4f76529"
      },
      "execution_count": null,
      "outputs": [
        {
          "output_type": "execute_result",
          "data": {
            "text/plain": [
              "HomePage                           51\n",
              "HomePage_Duration                  55\n",
              "LandingPage                        56\n",
              "LandingPage_Duration               75\n",
              "ProductDescriptionPage             58\n",
              "ProductDescriptionPage_Duration    63\n",
              "GoogleMetric:Bounce Rates          66\n",
              "GoogleMetric:Exit Rates            51\n",
              "GoogleMetric:Page Values           45\n",
              "SeasonalPurchase                   45\n",
              "Month_SeasonalPurchase             58\n",
              "OS                                 62\n",
              "SearchEngine                       58\n",
              "Zone                               47\n",
              "Type of Traffic                    68\n",
              "CustomerType                       88\n",
              "Gender                             64\n",
              "Cookies Setting                    62\n",
              "Education                          69\n",
              "Marital Status                     47\n",
              "WeekendPurchase                    58\n",
              "dtype: int64"
            ]
          },
          "metadata": {},
          "execution_count": 48
        }
      ]
    },
    {
      "cell_type": "code",
      "source": [
        "\n",
        "le=LabelEncoder()\n",
        "oe=OrdinalEncoder()\n",
        "pf=PolynomialFeatures(degree=2,interaction_only=True)\n",
        "knn=KNNImputer(missing_values=np.nan,n_neighbors=5)\n",
        "si=SimpleImputer(strategy='most_frequent')\n",
        "si_cat=SimpleImputer(missing_values=np.nan,strategy=\"most_frequent\")\n",
        "log_clf=LogisticRegression()\n",
        "sgd_clf=SGDClassifier(penalty=\"elasticnet\",learning_rate='optimal')\n",
        "svm_clf=SVC(kernel='sigmoid',gamma='scale')\n",
        "dt_clf=DecisionTreeClassifier()\n",
        "rf_clf=RandomForestClassifier(n_estimators=150,max_depth=6,random_state=42)\n",
        "gb_clf = GaussianNB()"
      ],
      "metadata": {
        "id": "YCxkrU2j-ao6"
      },
      "execution_count": null,
      "outputs": []
    },
    {
      "cell_type": "code",
      "source": [],
      "metadata": {
        "id": "wV1Z8heHBH1_"
      },
      "execution_count": null,
      "outputs": []
    },
    {
      "cell_type": "code",
      "source": [
        "train_data.head(100)"
      ],
      "metadata": {
        "colab": {
          "base_uri": "https://localhost:8080/",
          "height": 557
        },
        "id": "Xk6wdLTIArCR",
        "outputId": "479c5b2c-0c40-477e-b32b-65249e03d3ff"
      },
      "execution_count": null,
      "outputs": [
        {
          "output_type": "execute_result",
          "data": {
            "text/plain": [
              "    HomePage  HomePage_Duration  LandingPage  LandingPage_Duration  \\\n",
              "0        0.0                0.0          0.0                   0.0   \n",
              "1        0.0                0.0          0.0                   0.0   \n",
              "2        0.0                0.0          0.0                   0.0   \n",
              "3        0.0                0.0          0.0                   0.0   \n",
              "4        1.0                0.0          0.0                   0.0   \n",
              "..       ...                ...          ...                   ...   \n",
              "95       0.0                0.0          0.0                   0.0   \n",
              "96       0.0                0.0          0.0                   0.0   \n",
              "97       0.0                0.0          0.0                   0.0   \n",
              "98       0.0                0.0          0.0                   0.0   \n",
              "99       0.0                0.0          0.0                   0.0   \n",
              "\n",
              "    ProductDescriptionPage  ProductDescriptionPage_Duration  \\\n",
              "0                      1.0                         0.000000   \n",
              "1                      2.0                         2.666667   \n",
              "2                     10.0                       627.500000   \n",
              "3                      1.0                         0.000000   \n",
              "4                      0.0                         0.000000   \n",
              "..                     ...                              ...   \n",
              "95                    11.0                       316.666667   \n",
              "96                    20.0                       873.736508   \n",
              "97                     4.0                        16.000000   \n",
              "98                    19.0                       615.000000   \n",
              "99                     1.0                         0.000000   \n",
              "\n",
              "    GoogleMetric:Bounce Rates  GoogleMetric:Exit Rates  \\\n",
              "0                      0.2000                 0.200000   \n",
              "1                      0.0500                 0.140000   \n",
              "2                      0.0200                 0.050000   \n",
              "3                      0.2000                 0.200000   \n",
              "4                      0.2000                 0.200000   \n",
              "..                        ...                      ...   \n",
              "95                     0.0000                 0.027273   \n",
              "96                     0.0075                 0.028167   \n",
              "97                     0.1000                 0.150000   \n",
              "98                     0.0000                 0.026316   \n",
              "99                     0.2000                 0.200000   \n",
              "\n",
              "    GoogleMetric:Page Values  SeasonalPurchase  ... SearchEngine  Zone  \\\n",
              "0                        0.0               0.0  ...          1.0   9.0   \n",
              "1                        0.0               0.0  ...          2.0   2.0   \n",
              "2                        0.0               0.0  ...          3.0   1.0   \n",
              "3                        0.0               0.4  ...          4.0   3.0   \n",
              "4                        0.0               0.0  ...          2.0   1.0   \n",
              "..                       ...               ...  ...          ...   ...   \n",
              "95                       0.0               0.8  ...          2.0   2.0   \n",
              "96                       0.0               0.0  ...          2.0   1.0   \n",
              "97                       0.0               0.0  ...          5.0   5.0   \n",
              "98                       0.0               0.2  ...          2.0   3.0   \n",
              "99                       0.0               0.0  ...          3.0   3.0   \n",
              "\n",
              "    Type of Traffic       CustomerType         Gender Cookies Setting  \\\n",
              "0               3.0  Returning_Visitor  Not Specified            Deny   \n",
              "1               4.0  Returning_Visitor         Female            Deny   \n",
              "2               4.0  Returning_Visitor         Female             ALL   \n",
              "3               3.0  Returning_Visitor           Male             ALL   \n",
              "4               5.0  Returning_Visitor           Male            Deny   \n",
              "..              ...                ...            ...             ...   \n",
              "95              1.0  Returning_Visitor           Male             ALL   \n",
              "96              1.0  Returning_Visitor         Female        Required   \n",
              "97              1.0  Returning_Visitor           Male            Deny   \n",
              "98              3.0  Returning_Visitor  Not Specified        Required   \n",
              "99              2.0  Returning_Visitor  Not Specified            Deny   \n",
              "\n",
              "        Education Marital Status WeekendPurchase Made_Purchase  \n",
              "0   Not Specified          Other             0.0         False  \n",
              "1          Others        Married             0.0         False  \n",
              "2          Others        Married             1.0         False  \n",
              "3         Diploma         Single             0.0         False  \n",
              "4         Diploma          Other             1.0         False  \n",
              "..            ...            ...             ...           ...  \n",
              "95       Graduate         Single             0.0         False  \n",
              "96         Others        Married             0.0         False  \n",
              "97       Graduate         Single             0.0         False  \n",
              "98         Others         Single             0.0         False  \n",
              "99       Graduate          Other             1.0         False  \n",
              "\n",
              "[100 rows x 22 columns]"
            ],
            "text/html": [
              "\n",
              "  <div id=\"df-a8f92ae6-06cf-4eb3-85db-eab1f4af4f51\">\n",
              "    <div class=\"colab-df-container\">\n",
              "      <div>\n",
              "<style scoped>\n",
              "    .dataframe tbody tr th:only-of-type {\n",
              "        vertical-align: middle;\n",
              "    }\n",
              "\n",
              "    .dataframe tbody tr th {\n",
              "        vertical-align: top;\n",
              "    }\n",
              "\n",
              "    .dataframe thead th {\n",
              "        text-align: right;\n",
              "    }\n",
              "</style>\n",
              "<table border=\"1\" class=\"dataframe\">\n",
              "  <thead>\n",
              "    <tr style=\"text-align: right;\">\n",
              "      <th></th>\n",
              "      <th>HomePage</th>\n",
              "      <th>HomePage_Duration</th>\n",
              "      <th>LandingPage</th>\n",
              "      <th>LandingPage_Duration</th>\n",
              "      <th>ProductDescriptionPage</th>\n",
              "      <th>ProductDescriptionPage_Duration</th>\n",
              "      <th>GoogleMetric:Bounce Rates</th>\n",
              "      <th>GoogleMetric:Exit Rates</th>\n",
              "      <th>GoogleMetric:Page Values</th>\n",
              "      <th>SeasonalPurchase</th>\n",
              "      <th>...</th>\n",
              "      <th>SearchEngine</th>\n",
              "      <th>Zone</th>\n",
              "      <th>Type of Traffic</th>\n",
              "      <th>CustomerType</th>\n",
              "      <th>Gender</th>\n",
              "      <th>Cookies Setting</th>\n",
              "      <th>Education</th>\n",
              "      <th>Marital Status</th>\n",
              "      <th>WeekendPurchase</th>\n",
              "      <th>Made_Purchase</th>\n",
              "    </tr>\n",
              "  </thead>\n",
              "  <tbody>\n",
              "    <tr>\n",
              "      <th>0</th>\n",
              "      <td>0.0</td>\n",
              "      <td>0.0</td>\n",
              "      <td>0.0</td>\n",
              "      <td>0.0</td>\n",
              "      <td>1.0</td>\n",
              "      <td>0.000000</td>\n",
              "      <td>0.2000</td>\n",
              "      <td>0.200000</td>\n",
              "      <td>0.0</td>\n",
              "      <td>0.0</td>\n",
              "      <td>...</td>\n",
              "      <td>1.0</td>\n",
              "      <td>9.0</td>\n",
              "      <td>3.0</td>\n",
              "      <td>Returning_Visitor</td>\n",
              "      <td>Not Specified</td>\n",
              "      <td>Deny</td>\n",
              "      <td>Not Specified</td>\n",
              "      <td>Other</td>\n",
              "      <td>0.0</td>\n",
              "      <td>False</td>\n",
              "    </tr>\n",
              "    <tr>\n",
              "      <th>1</th>\n",
              "      <td>0.0</td>\n",
              "      <td>0.0</td>\n",
              "      <td>0.0</td>\n",
              "      <td>0.0</td>\n",
              "      <td>2.0</td>\n",
              "      <td>2.666667</td>\n",
              "      <td>0.0500</td>\n",
              "      <td>0.140000</td>\n",
              "      <td>0.0</td>\n",
              "      <td>0.0</td>\n",
              "      <td>...</td>\n",
              "      <td>2.0</td>\n",
              "      <td>2.0</td>\n",
              "      <td>4.0</td>\n",
              "      <td>Returning_Visitor</td>\n",
              "      <td>Female</td>\n",
              "      <td>Deny</td>\n",
              "      <td>Others</td>\n",
              "      <td>Married</td>\n",
              "      <td>0.0</td>\n",
              "      <td>False</td>\n",
              "    </tr>\n",
              "    <tr>\n",
              "      <th>2</th>\n",
              "      <td>0.0</td>\n",
              "      <td>0.0</td>\n",
              "      <td>0.0</td>\n",
              "      <td>0.0</td>\n",
              "      <td>10.0</td>\n",
              "      <td>627.500000</td>\n",
              "      <td>0.0200</td>\n",
              "      <td>0.050000</td>\n",
              "      <td>0.0</td>\n",
              "      <td>0.0</td>\n",
              "      <td>...</td>\n",
              "      <td>3.0</td>\n",
              "      <td>1.0</td>\n",
              "      <td>4.0</td>\n",
              "      <td>Returning_Visitor</td>\n",
              "      <td>Female</td>\n",
              "      <td>ALL</td>\n",
              "      <td>Others</td>\n",
              "      <td>Married</td>\n",
              "      <td>1.0</td>\n",
              "      <td>False</td>\n",
              "    </tr>\n",
              "    <tr>\n",
              "      <th>3</th>\n",
              "      <td>0.0</td>\n",
              "      <td>0.0</td>\n",
              "      <td>0.0</td>\n",
              "      <td>0.0</td>\n",
              "      <td>1.0</td>\n",
              "      <td>0.000000</td>\n",
              "      <td>0.2000</td>\n",
              "      <td>0.200000</td>\n",
              "      <td>0.0</td>\n",
              "      <td>0.4</td>\n",
              "      <td>...</td>\n",
              "      <td>4.0</td>\n",
              "      <td>3.0</td>\n",
              "      <td>3.0</td>\n",
              "      <td>Returning_Visitor</td>\n",
              "      <td>Male</td>\n",
              "      <td>ALL</td>\n",
              "      <td>Diploma</td>\n",
              "      <td>Single</td>\n",
              "      <td>0.0</td>\n",
              "      <td>False</td>\n",
              "    </tr>\n",
              "    <tr>\n",
              "      <th>4</th>\n",
              "      <td>1.0</td>\n",
              "      <td>0.0</td>\n",
              "      <td>0.0</td>\n",
              "      <td>0.0</td>\n",
              "      <td>0.0</td>\n",
              "      <td>0.000000</td>\n",
              "      <td>0.2000</td>\n",
              "      <td>0.200000</td>\n",
              "      <td>0.0</td>\n",
              "      <td>0.0</td>\n",
              "      <td>...</td>\n",
              "      <td>2.0</td>\n",
              "      <td>1.0</td>\n",
              "      <td>5.0</td>\n",
              "      <td>Returning_Visitor</td>\n",
              "      <td>Male</td>\n",
              "      <td>Deny</td>\n",
              "      <td>Diploma</td>\n",
              "      <td>Other</td>\n",
              "      <td>1.0</td>\n",
              "      <td>False</td>\n",
              "    </tr>\n",
              "    <tr>\n",
              "      <th>...</th>\n",
              "      <td>...</td>\n",
              "      <td>...</td>\n",
              "      <td>...</td>\n",
              "      <td>...</td>\n",
              "      <td>...</td>\n",
              "      <td>...</td>\n",
              "      <td>...</td>\n",
              "      <td>...</td>\n",
              "      <td>...</td>\n",
              "      <td>...</td>\n",
              "      <td>...</td>\n",
              "      <td>...</td>\n",
              "      <td>...</td>\n",
              "      <td>...</td>\n",
              "      <td>...</td>\n",
              "      <td>...</td>\n",
              "      <td>...</td>\n",
              "      <td>...</td>\n",
              "      <td>...</td>\n",
              "      <td>...</td>\n",
              "      <td>...</td>\n",
              "    </tr>\n",
              "    <tr>\n",
              "      <th>95</th>\n",
              "      <td>0.0</td>\n",
              "      <td>0.0</td>\n",
              "      <td>0.0</td>\n",
              "      <td>0.0</td>\n",
              "      <td>11.0</td>\n",
              "      <td>316.666667</td>\n",
              "      <td>0.0000</td>\n",
              "      <td>0.027273</td>\n",
              "      <td>0.0</td>\n",
              "      <td>0.8</td>\n",
              "      <td>...</td>\n",
              "      <td>2.0</td>\n",
              "      <td>2.0</td>\n",
              "      <td>1.0</td>\n",
              "      <td>Returning_Visitor</td>\n",
              "      <td>Male</td>\n",
              "      <td>ALL</td>\n",
              "      <td>Graduate</td>\n",
              "      <td>Single</td>\n",
              "      <td>0.0</td>\n",
              "      <td>False</td>\n",
              "    </tr>\n",
              "    <tr>\n",
              "      <th>96</th>\n",
              "      <td>0.0</td>\n",
              "      <td>0.0</td>\n",
              "      <td>0.0</td>\n",
              "      <td>0.0</td>\n",
              "      <td>20.0</td>\n",
              "      <td>873.736508</td>\n",
              "      <td>0.0075</td>\n",
              "      <td>0.028167</td>\n",
              "      <td>0.0</td>\n",
              "      <td>0.0</td>\n",
              "      <td>...</td>\n",
              "      <td>2.0</td>\n",
              "      <td>1.0</td>\n",
              "      <td>1.0</td>\n",
              "      <td>Returning_Visitor</td>\n",
              "      <td>Female</td>\n",
              "      <td>Required</td>\n",
              "      <td>Others</td>\n",
              "      <td>Married</td>\n",
              "      <td>0.0</td>\n",
              "      <td>False</td>\n",
              "    </tr>\n",
              "    <tr>\n",
              "      <th>97</th>\n",
              "      <td>0.0</td>\n",
              "      <td>0.0</td>\n",
              "      <td>0.0</td>\n",
              "      <td>0.0</td>\n",
              "      <td>4.0</td>\n",
              "      <td>16.000000</td>\n",
              "      <td>0.1000</td>\n",
              "      <td>0.150000</td>\n",
              "      <td>0.0</td>\n",
              "      <td>0.0</td>\n",
              "      <td>...</td>\n",
              "      <td>5.0</td>\n",
              "      <td>5.0</td>\n",
              "      <td>1.0</td>\n",
              "      <td>Returning_Visitor</td>\n",
              "      <td>Male</td>\n",
              "      <td>Deny</td>\n",
              "      <td>Graduate</td>\n",
              "      <td>Single</td>\n",
              "      <td>0.0</td>\n",
              "      <td>False</td>\n",
              "    </tr>\n",
              "    <tr>\n",
              "      <th>98</th>\n",
              "      <td>0.0</td>\n",
              "      <td>0.0</td>\n",
              "      <td>0.0</td>\n",
              "      <td>0.0</td>\n",
              "      <td>19.0</td>\n",
              "      <td>615.000000</td>\n",
              "      <td>0.0000</td>\n",
              "      <td>0.026316</td>\n",
              "      <td>0.0</td>\n",
              "      <td>0.2</td>\n",
              "      <td>...</td>\n",
              "      <td>2.0</td>\n",
              "      <td>3.0</td>\n",
              "      <td>3.0</td>\n",
              "      <td>Returning_Visitor</td>\n",
              "      <td>Not Specified</td>\n",
              "      <td>Required</td>\n",
              "      <td>Others</td>\n",
              "      <td>Single</td>\n",
              "      <td>0.0</td>\n",
              "      <td>False</td>\n",
              "    </tr>\n",
              "    <tr>\n",
              "      <th>99</th>\n",
              "      <td>0.0</td>\n",
              "      <td>0.0</td>\n",
              "      <td>0.0</td>\n",
              "      <td>0.0</td>\n",
              "      <td>1.0</td>\n",
              "      <td>0.000000</td>\n",
              "      <td>0.2000</td>\n",
              "      <td>0.200000</td>\n",
              "      <td>0.0</td>\n",
              "      <td>0.0</td>\n",
              "      <td>...</td>\n",
              "      <td>3.0</td>\n",
              "      <td>3.0</td>\n",
              "      <td>2.0</td>\n",
              "      <td>Returning_Visitor</td>\n",
              "      <td>Not Specified</td>\n",
              "      <td>Deny</td>\n",
              "      <td>Graduate</td>\n",
              "      <td>Other</td>\n",
              "      <td>1.0</td>\n",
              "      <td>False</td>\n",
              "    </tr>\n",
              "  </tbody>\n",
              "</table>\n",
              "<p>100 rows × 22 columns</p>\n",
              "</div>\n",
              "      <button class=\"colab-df-convert\" onclick=\"convertToInteractive('df-a8f92ae6-06cf-4eb3-85db-eab1f4af4f51')\"\n",
              "              title=\"Convert this dataframe to an interactive table.\"\n",
              "              style=\"display:none;\">\n",
              "        \n",
              "  <svg xmlns=\"http://www.w3.org/2000/svg\" height=\"24px\"viewBox=\"0 0 24 24\"\n",
              "       width=\"24px\">\n",
              "    <path d=\"M0 0h24v24H0V0z\" fill=\"none\"/>\n",
              "    <path d=\"M18.56 5.44l.94 2.06.94-2.06 2.06-.94-2.06-.94-.94-2.06-.94 2.06-2.06.94zm-11 1L8.5 8.5l.94-2.06 2.06-.94-2.06-.94L8.5 2.5l-.94 2.06-2.06.94zm10 10l.94 2.06.94-2.06 2.06-.94-2.06-.94-.94-2.06-.94 2.06-2.06.94z\"/><path d=\"M17.41 7.96l-1.37-1.37c-.4-.4-.92-.59-1.43-.59-.52 0-1.04.2-1.43.59L10.3 9.45l-7.72 7.72c-.78.78-.78 2.05 0 2.83L4 21.41c.39.39.9.59 1.41.59.51 0 1.02-.2 1.41-.59l7.78-7.78 2.81-2.81c.8-.78.8-2.07 0-2.86zM5.41 20L4 18.59l7.72-7.72 1.47 1.35L5.41 20z\"/>\n",
              "  </svg>\n",
              "      </button>\n",
              "      \n",
              "  <style>\n",
              "    .colab-df-container {\n",
              "      display:flex;\n",
              "      flex-wrap:wrap;\n",
              "      gap: 12px;\n",
              "    }\n",
              "\n",
              "    .colab-df-convert {\n",
              "      background-color: #E8F0FE;\n",
              "      border: none;\n",
              "      border-radius: 50%;\n",
              "      cursor: pointer;\n",
              "      display: none;\n",
              "      fill: #1967D2;\n",
              "      height: 32px;\n",
              "      padding: 0 0 0 0;\n",
              "      width: 32px;\n",
              "    }\n",
              "\n",
              "    .colab-df-convert:hover {\n",
              "      background-color: #E2EBFA;\n",
              "      box-shadow: 0px 1px 2px rgba(60, 64, 67, 0.3), 0px 1px 3px 1px rgba(60, 64, 67, 0.15);\n",
              "      fill: #174EA6;\n",
              "    }\n",
              "\n",
              "    [theme=dark] .colab-df-convert {\n",
              "      background-color: #3B4455;\n",
              "      fill: #D2E3FC;\n",
              "    }\n",
              "\n",
              "    [theme=dark] .colab-df-convert:hover {\n",
              "      background-color: #434B5C;\n",
              "      box-shadow: 0px 1px 3px 1px rgba(0, 0, 0, 0.15);\n",
              "      filter: drop-shadow(0px 1px 2px rgba(0, 0, 0, 0.3));\n",
              "      fill: #FFFFFF;\n",
              "    }\n",
              "  </style>\n",
              "\n",
              "      <script>\n",
              "        const buttonEl =\n",
              "          document.querySelector('#df-a8f92ae6-06cf-4eb3-85db-eab1f4af4f51 button.colab-df-convert');\n",
              "        buttonEl.style.display =\n",
              "          google.colab.kernel.accessAllowed ? 'block' : 'none';\n",
              "\n",
              "        async function convertToInteractive(key) {\n",
              "          const element = document.querySelector('#df-a8f92ae6-06cf-4eb3-85db-eab1f4af4f51');\n",
              "          const dataTable =\n",
              "            await google.colab.kernel.invokeFunction('convertToInteractive',\n",
              "                                                     [key], {});\n",
              "          if (!dataTable) return;\n",
              "\n",
              "          const docLinkHtml = 'Like what you see? Visit the ' +\n",
              "            '<a target=\"_blank\" href=https://colab.research.google.com/notebooks/data_table.ipynb>data table notebook</a>'\n",
              "            + ' to learn more about interactive tables.';\n",
              "          element.innerHTML = '';\n",
              "          dataTable['output_type'] = 'display_data';\n",
              "          await google.colab.output.renderOutput(dataTable, element);\n",
              "          const docLink = document.createElement('div');\n",
              "          docLink.innerHTML = docLinkHtml;\n",
              "          element.appendChild(docLink);\n",
              "        }\n",
              "      </script>\n",
              "    </div>\n",
              "  </div>\n",
              "  "
            ]
          },
          "metadata": {},
          "execution_count": 50
        }
      ]
    },
    {
      "cell_type": "code",
      "source": [
        "train_data.info()"
      ],
      "metadata": {
        "colab": {
          "base_uri": "https://localhost:8080/"
        },
        "id": "Ahj23xxTBnSS",
        "outputId": "c7057055-35ef-46cd-8205-dcb66e54c0a1"
      },
      "execution_count": null,
      "outputs": [
        {
          "output_type": "stream",
          "name": "stdout",
          "text": [
            "<class 'pandas.core.frame.DataFrame'>\n",
            "RangeIndex: 14731 entries, 0 to 14730\n",
            "Data columns (total 22 columns):\n",
            " #   Column                           Non-Null Count  Dtype  \n",
            "---  ------                           --------------  -----  \n",
            " 0   HomePage                         14578 non-null  float64\n",
            " 1   HomePage_Duration                14581 non-null  float64\n",
            " 2   LandingPage                      14578 non-null  float64\n",
            " 3   LandingPage_Duration             14596 non-null  float64\n",
            " 4   ProductDescriptionPage           14608 non-null  float64\n",
            " 5   ProductDescriptionPage_Duration  14564 non-null  float64\n",
            " 6   GoogleMetric:Bounce Rates        14580 non-null  float64\n",
            " 7   GoogleMetric:Exit Rates          14602 non-null  float64\n",
            " 8   GoogleMetric:Page Values         14599 non-null  float64\n",
            " 9   SeasonalPurchase                 14581 non-null  float64\n",
            " 10  Month_SeasonalPurchase           14587 non-null  object \n",
            " 11  OS                               14597 non-null  float64\n",
            " 12  SearchEngine                     14609 non-null  float64\n",
            " 13  Zone                             14614 non-null  float64\n",
            " 14  Type of Traffic                  14588 non-null  float64\n",
            " 15  CustomerType                     14587 non-null  object \n",
            " 16  Gender                           14586 non-null  object \n",
            " 17  Cookies Setting                  14587 non-null  object \n",
            " 18  Education                        14595 non-null  object \n",
            " 19  Marital Status                   14601 non-null  object \n",
            " 20  WeekendPurchase                  14610 non-null  float64\n",
            " 21  Made_Purchase                    14731 non-null  bool   \n",
            "dtypes: bool(1), float64(15), object(6)\n",
            "memory usage: 2.4+ MB\n"
          ]
        }
      ]
    },
    {
      "cell_type": "code",
      "source": [
        "train_data.rename(columns={'Type of Traffic': 'Type_of_Traffic', 'Cookies Setting': 'Cookies_Setting','Marital Status':\"Marital_Status\"}, inplace=True)\n",
        "test_data.rename(columns={'Type of Traffic': 'Type_of_Traffic', 'Cookies Setting': 'Cookies_Setting','Marital Status':\"Marital_Status\"}, inplace=True)"
      ],
      "metadata": {
        "id": "0DL-B7heBqY9"
      },
      "execution_count": null,
      "outputs": []
    },
    {
      "cell_type": "code",
      "source": [
        "X_,y=train_data[train_data.columns[:-1]],train_data.Made_Purchase"
      ],
      "metadata": {
        "id": "VDcrBh84DErw"
      },
      "execution_count": null,
      "outputs": []
    },
    {
      "cell_type": "code",
      "source": [
        "y.value_counts()"
      ],
      "metadata": {
        "colab": {
          "base_uri": "https://localhost:8080/"
        },
        "id": "Ndn9rkokBgOp",
        "outputId": "fce1e507-ac8c-474e-d629-df423d673320"
      },
      "execution_count": null,
      "outputs": [
        {
          "output_type": "execute_result",
          "data": {
            "text/plain": [
              "False    9065\n",
              "True     5666\n",
              "Name: Made_Purchase, dtype: int64"
            ]
          },
          "metadata": {},
          "execution_count": 54
        }
      ]
    },
    {
      "cell_type": "code",
      "source": [
        "x_true=pd.DataFrame(columns=train_data.columns)\n",
        "\n",
        "l=0\n",
        "X_tr=[]\n",
        "for i in train_data.index:\n",
        "  if train_data[train_data.columns[-1]][i]==True:\n",
        "     x_true.loc[i]=train_data.loc[i]"
      ],
      "metadata": {
        "id": "NFZKYCRYBrmx"
      },
      "execution_count": null,
      "outputs": []
    },
    {
      "cell_type": "code",
      "source": [],
      "metadata": {
        "id": "DCACaDyaCzg1"
      },
      "execution_count": null,
      "outputs": []
    },
    {
      "cell_type": "code",
      "source": [
        "X_.info()"
      ],
      "metadata": {
        "colab": {
          "base_uri": "https://localhost:8080/"
        },
        "id": "ppJY6d0yul7Q",
        "outputId": "e1afa758-9c01-4423-9b50-2142929a3db7"
      },
      "execution_count": null,
      "outputs": [
        {
          "output_type": "stream",
          "name": "stdout",
          "text": [
            "<class 'pandas.core.frame.DataFrame'>\n",
            "RangeIndex: 14731 entries, 0 to 14730\n",
            "Data columns (total 21 columns):\n",
            " #   Column                           Non-Null Count  Dtype  \n",
            "---  ------                           --------------  -----  \n",
            " 0   HomePage                         14578 non-null  float64\n",
            " 1   HomePage_Duration                14581 non-null  float64\n",
            " 2   LandingPage                      14578 non-null  float64\n",
            " 3   LandingPage_Duration             14596 non-null  float64\n",
            " 4   ProductDescriptionPage           14608 non-null  float64\n",
            " 5   ProductDescriptionPage_Duration  14564 non-null  float64\n",
            " 6   GoogleMetric:Bounce Rates        14580 non-null  float64\n",
            " 7   GoogleMetric:Exit Rates          14602 non-null  float64\n",
            " 8   GoogleMetric:Page Values         14599 non-null  float64\n",
            " 9   SeasonalPurchase                 14581 non-null  float64\n",
            " 10  Month_SeasonalPurchase           14587 non-null  object \n",
            " 11  OS                               14597 non-null  float64\n",
            " 12  SearchEngine                     14609 non-null  float64\n",
            " 13  Zone                             14614 non-null  float64\n",
            " 14  Type_of_Traffic                  14588 non-null  float64\n",
            " 15  CustomerType                     14587 non-null  object \n",
            " 16  Gender                           14586 non-null  object \n",
            " 17  Cookies_Setting                  14587 non-null  object \n",
            " 18  Education                        14595 non-null  object \n",
            " 19  Marital_Status                   14601 non-null  object \n",
            " 20  WeekendPurchase                  14610 non-null  float64\n",
            "dtypes: float64(15), object(6)\n",
            "memory usage: 2.4+ MB\n"
          ]
        }
      ]
    },
    {
      "cell_type": "code",
      "source": [
        "\n"
      ],
      "metadata": {
        "id": "-31KqwJItjvJ"
      },
      "execution_count": null,
      "outputs": []
    },
    {
      "cell_type": "markdown",
      "source": [],
      "metadata": {
        "id": "hqpFmDv3mvxI"
      }
    },
    {
      "cell_type": "code",
      "source": [
        "# def preprocess(X):\n",
        "num=[]\n",
        "cat=[]\n",
        "num_index=[]\n",
        "cat_index=[]\n",
        "for i in X_.columns:\n",
        "  if X_[i].dtypes!='object':\n",
        "    num.append(i)\n",
        "    num_index.append(X_.columns.get_loc(i))\n",
        "  else :\n",
        "    cat.append(i)\n",
        "    cat_index.append(X_.columns.get_loc(i))\n",
        "# plt.scatter(X_['HomePage'],X_[num])"
      ],
      "metadata": {
        "id": "1DAxgFs3m2yT"
      },
      "execution_count": null,
      "outputs": []
    },
    {
      "cell_type": "code",
      "source": [
        "dict(zip(cat, cat_index))"
      ],
      "metadata": {
        "colab": {
          "base_uri": "https://localhost:8080/"
        },
        "id": "aM5dw4WdMpEU",
        "outputId": "f049f1fa-04f9-47f0-964b-16c119e61c36"
      },
      "execution_count": null,
      "outputs": [
        {
          "output_type": "execute_result",
          "data": {
            "text/plain": [
              "{'Month_SeasonalPurchase': 10,\n",
              " 'CustomerType': 15,\n",
              " 'Gender': 16,\n",
              " 'Cookies_Setting': 17,\n",
              " 'Education': 18,\n",
              " 'Marital_Status': 19}"
            ]
          },
          "metadata": {},
          "execution_count": 58
        }
      ]
    },
    {
      "cell_type": "code",
      "source": [
        "dict(zip(num, num_index))"
      ],
      "metadata": {
        "colab": {
          "base_uri": "https://localhost:8080/"
        },
        "id": "op_H-beFOLcs",
        "outputId": "3a48df51-88b5-468d-aac8-957975c53e13"
      },
      "execution_count": null,
      "outputs": [
        {
          "output_type": "execute_result",
          "data": {
            "text/plain": [
              "{'HomePage': 0,\n",
              " 'HomePage_Duration': 1,\n",
              " 'LandingPage': 2,\n",
              " 'LandingPage_Duration': 3,\n",
              " 'ProductDescriptionPage': 4,\n",
              " 'ProductDescriptionPage_Duration': 5,\n",
              " 'GoogleMetric:Bounce Rates': 6,\n",
              " 'GoogleMetric:Exit Rates': 7,\n",
              " 'GoogleMetric:Page Values': 8,\n",
              " 'SeasonalPurchase': 9,\n",
              " 'OS': 11,\n",
              " 'SearchEngine': 12,\n",
              " 'Zone': 13,\n",
              " 'Type_of_Traffic': 14,\n",
              " 'WeekendPurchase': 20}"
            ]
          },
          "metadata": {},
          "execution_count": 59
        }
      ]
    },
    {
      "cell_type": "code",
      "source": [
        "from pandas.plotting import scatter_matrix\n"
      ],
      "metadata": {
        "id": "YsVXP3GboH4b"
      },
      "execution_count": null,
      "outputs": []
    },
    {
      "cell_type": "code",
      "source": [
        "# for i in x_true.columns:\n",
        "# scatter_matrix(x_true, figsize=(12, 8))\n"
      ],
      "metadata": {
        "id": "P8Lab2-YkSfE"
      },
      "execution_count": null,
      "outputs": []
    },
    {
      "cell_type": "code",
      "source": [
        "plt.plot(X_.SeasonalPurchase,y)"
      ],
      "metadata": {
        "colab": {
          "base_uri": "https://localhost:8080/",
          "height": 282
        },
        "id": "u40Gi-TGjCCX",
        "outputId": "0ae5469d-cf05-4b32-8b42-114762167cf6"
      },
      "execution_count": null,
      "outputs": [
        {
          "output_type": "execute_result",
          "data": {
            "text/plain": [
              "[<matplotlib.lines.Line2D at 0x7f853b79a820>]"
            ]
          },
          "metadata": {},
          "execution_count": 62
        },
        {
          "output_type": "display_data",
          "data": {
            "text/plain": [
              "<Figure size 432x288 with 1 Axes>"
            ],
            "image/png": "[encoded data removed]"
          },
          "metadata": {
            "needs_background": "light"
          }
        }
      ]
    },
    {
      "cell_type": "code",
      "source": [],
      "metadata": {
        "id": "RYViOCuGFdYd"
      },
      "execution_count": null,
      "outputs": []
    },
    {
      "cell_type": "markdown",
      "source": [
        "1. Data  upload\n",
        "2. data split into cat or num\n",
        "3. preprocess : - Imputer : - OHE, KNN , Simple\n",
        "4. train_slpit_\n",
        "5. feature selection\n",
        "6. model train\n",
        "7. hypertuning\n",
        "8.evaluation\n",
        "9. submission"
      ],
      "metadata": {
        "id": "eCNNTVOWbWvP"
      }
    },
    {
      "cell_type": "code",
      "source": [],
      "metadata": {
        "id": "7GKJz3WjuwwP"
      },
      "execution_count": null,
      "outputs": []
    },
    {
      "cell_type": "code",
      "source": [
        "cat# num_dat=X_new[num]"
      ],
      "metadata": {
        "colab": {
          "base_uri": "https://localhost:8080/"
        },
        "id": "z1D7HcEGvkPZ",
        "outputId": "8b1b0c73-728a-47dd-fb3f-b19c44219dc0"
      },
      "execution_count": null,
      "outputs": [
        {
          "output_type": "execute_result",
          "data": {
            "text/plain": [
              "['Month_SeasonalPurchase',\n",
              " 'CustomerType',\n",
              " 'Gender',\n",
              " 'Cookies_Setting',\n",
              " 'Education',\n",
              " 'Marital_Status']"
            ]
          },
          "metadata": {},
          "execution_count": 63
        }
      ]
    },
    {
      "cell_type": "code",
      "source": [
        "X_.WeekendPurchase.hist()"
      ],
      "metadata": {
        "colab": {
          "base_uri": "https://localhost:8080/",
          "height": 282
        },
        "id": "ZQ6ebUHzYTvW",
        "outputId": "a6078125-ae1d-4e9d-e1b4-cd98021866d6"
      },
      "execution_count": null,
      "outputs": [
        {
          "output_type": "execute_result",
          "data": {
            "text/plain": [
              "<Axes: >"
            ]
          },
          "metadata": {},
          "execution_count": 64
        },
        {
          "output_type": "display_data",
          "data": {
            "text/plain": [
              "<Figure size 432x288 with 1 Axes>"
            ],
            "image/png": "[encoded data removed]"
          },
          "metadata": {
            "needs_background": "light"
          }
        }
      ]
    },
    {
      "cell_type": "code",
      "source": [
        "cat_pipe=Pipeline(steps=[('oe',oe),('impute',si_cat)])\n",
        "\n",
        "  # for i in cat_data.columns:\n",
        "\n",
        "  #   if i!='CustomerType':\n",
        "  #     knn.fit_transform(np.asarray(cat_data[i]).reshape(-1,1))\n",
        "  #   if i=='CustomerType':\n",
        "  #     si_cat.fit_transform(np.asarray(cat_data[i]).reshape(-1,1))\n",
        "\n",
        "pipe=Pipeline(steps=[('impute',si),('scale',MinMaxScaler())])\n",
        "full_pipeline = ColumnTransformer([\n",
        "            (\"num_pipeline\", pipe,num_index),\n",
        "            (\"cat_pipeline\", cat_pipe,cat_index)])"
      ],
      "metadata": {
        "id": "BY93jHAqv1fH"
      },
      "execution_count": null,
      "outputs": []
    },
    {
      "cell_type": "code",
      "source": [
        "full_pipeline"
      ],
      "metadata": {
        "colab": {
          "base_uri": "https://localhost:8080/",
          "height": 152
        },
        "id": "ggZaSHN_-uSa",
        "outputId": "0a9d0f79-bde7-4c24-b909-eb3d6b6e39a2"
      },
      "execution_count": null,
      "outputs": [
        {
          "output_type": "execute_result",
          "data": {
            "text/plain": [
              "ColumnTransformer(transformers=[('num_pipeline',\n",
              "                                 Pipeline(steps=[('impute',\n",
              "                                                  SimpleImputer(strategy='most_frequent')),\n",
              "                                                 ('scale', MinMaxScaler())]),\n",
              "                                 [0, 1, 2, 3, 4, 5, 6, 7, 8, 9, 11, 12, 13, 14,\n",
              "                                  20]),\n",
              "                                ('cat_pipeline',\n",
              "                                 Pipeline(steps=[('oe', OrdinalEncoder()),\n",
              "                                                 ('impute',\n",
              "                                                  SimpleImputer(strategy='most_frequent'))]),\n",
              "                                 [10, 15, 16, 17, 18, 19])])"
            ],
            "text/html": [
              "<style>#sk-container-id-2 {color: black;background-color: white;}#sk-container-id-2 pre{padding: 0;}#sk-container-id-2 div.sk-toggleable {background-color: white;}#sk-container-id-2 label.sk-toggleable__label {cursor: pointer;display: block;width: 100%;margin-bottom: 0;padding: 0.3em;box-sizing: border-box;text-align: center;}#sk-container-id-2 label.sk-toggleable__label-arrow:before {content: \"▸\";float: left;margin-right: 0.25em;color: #696969;}#sk-container-id-2 label.sk-toggleable__label-arrow:hover:before {color: black;}#sk-container-id-2 div.sk-estimator:hover label.sk-toggleable__label-arrow:before {color: black;}#sk-container-id-2 div.sk-toggleable__content {max-height: 0;max-width: 0;overflow: hidden;text-align: left;background-color: #f0f8ff;}#sk-container-id-2 div.sk-toggleable__content pre {margin: 0.2em;color: black;border-radius: 0.25em;background-color: #f0f8ff;}#sk-container-id-2 input.sk-toggleable__control:checked~div.sk-toggleable__content {max-height: 200px;max-width: 100%;overflow: auto;}#sk-container-id-2 input.sk-toggleable__control:checked~label.sk-toggleable__label-arrow:before {content: \"▾\";}#sk-container-id-2 div.sk-estimator input.sk-toggleable__control:checked~label.sk-toggleable__label {background-color: #d4ebff;}#sk-container-id-2 div.sk-label input.sk-toggleable__control:checked~label.sk-toggleable__label {background-color: #d4ebff;}#sk-container-id-2 input.sk-hidden--visually {border: 0;clip: rect(1px 1px 1px 1px);clip: rect(1px, 1px, 1px, 1px);height: 1px;margin: -1px;overflow: hidden;padding: 0;position: absolute;width: 1px;}#sk-container-id-2 div.sk-estimator {font-family: monospace;background-color: #f0f8ff;border: 1px dotted black;border-radius: 0.25em;box-sizing: border-box;margin-bottom: 0.5em;}#sk-container-id-2 div.sk-estimator:hover {background-color: #d4ebff;}#sk-container-id-2 div.sk-parallel-item::after {content: \"\";width: 100%;border-bottom: 1px solid gray;flex-grow: 1;}#sk-container-id-2 div.sk-label:hover label.sk-toggleable__label {background-color: #d4ebff;}#sk-container-id-2 div.sk-serial::before {content: \"\";position: absolute;border-left: 1px solid gray;box-sizing: border-box;top: 0;bottom: 0;left: 50%;z-index: 0;}#sk-container-id-2 div.sk-serial {display: flex;flex-direction: column;align-items: center;background-color: white;padding-right: 0.2em;padding-left: 0.2em;position: relative;}#sk-container-id-2 div.sk-item {position: relative;z-index: 1;}#sk-container-id-2 div.sk-parallel {display: flex;align-items: stretch;justify-content: center;background-color: white;position: relative;}#sk-container-id-2 div.sk-item::before, #sk-container-id-2 div.sk-parallel-item::before {content: \"\";position: absolute;border-left: 1px solid gray;box-sizing: border-box;top: 0;bottom: 0;left: 50%;z-index: -1;}#sk-container-id-2 div.sk-parallel-item {display: flex;flex-direction: column;z-index: 1;position: relative;background-color: white;}#sk-container-id-2 div.sk-parallel-item:first-child::after {align-self: flex-end;width: 50%;}#sk-container-id-2 div.sk-parallel-item:last-child::after {align-self: flex-start;width: 50%;}#sk-container-id-2 div.sk-parallel-item:only-child::after {width: 0;}#sk-container-id-2 div.sk-dashed-wrapped {border: 1px dashed gray;margin: 0 0.4em 0.5em 0.4em;box-sizing: border-box;padding-bottom: 0.4em;background-color: white;}#sk-container-id-2 div.sk-label label {font-family: monospace;font-weight: bold;display: inline-block;line-height: 1.2em;}#sk-container-id-2 div.sk-label-container {text-align: center;}#sk-container-id-2 div.sk-container {/* jupyter's `normalize.less` sets `[hidden] { display: none; }` but bootstrap.min.css set `[hidden] { display: none !important; }` so we also need the `!important` here to be able to override the default hidden behavior on the sphinx rendered scikit-learn.org. See: https://github.com/scikit-learn/scikit-learn/issues/21755 */display: inline-block !important;position: relative;}#sk-container-id-2 div.sk-text-repr-fallback {display: none;}</style><div id=\"sk-container-id-2\" class=\"sk-top-container\"><div class=\"sk-text-repr-fallback\"><pre>ColumnTransformer(transformers=[(&#x27;num_pipeline&#x27;,\n",
              "                                 Pipeline(steps=[(&#x27;impute&#x27;,\n",
              "                                                  SimpleImputer(strategy=&#x27;most_frequent&#x27;)),\n",
              "                                                 (&#x27;scale&#x27;, MinMaxScaler())]),\n",
              "                                 [0, 1, 2, 3, 4, 5, 6, 7, 8, 9, 11, 12, 13, 14,\n",
              "                                  20]),\n",
              "                                (&#x27;cat_pipeline&#x27;,\n",
              "                                 Pipeline(steps=[(&#x27;oe&#x27;, OrdinalEncoder()),\n",
              "                                                 (&#x27;impute&#x27;,\n",
              "                                                  SimpleImputer(strategy=&#x27;most_frequent&#x27;))]),\n",
              "                                 [10, 15, 16, 17, 18, 19])])</pre><b>In a Jupyter environment, please rerun this cell to show the HTML representation or trust the notebook. <br />On GitHub, the HTML representation is unable to render, please try loading this page with nbviewer.org.</b></div><div class=\"sk-container\" hidden><div class=\"sk-item sk-dashed-wrapped\"><div class=\"sk-label-container\"><div class=\"sk-label sk-toggleable\"><input class=\"sk-toggleable__control sk-hidden--visually\" id=\"sk-estimator-id-8\" type=\"checkbox\" ><label for=\"sk-estimator-id-8\" class=\"sk-toggleable__label sk-toggleable__label-arrow\">ColumnTransformer</label><div class=\"sk-toggleable__content\"><pre>ColumnTransformer(transformers=[(&#x27;num_pipeline&#x27;,\n",
              "                                 Pipeline(steps=[(&#x27;impute&#x27;,\n",
              "                                                  SimpleImputer(strategy=&#x27;most_frequent&#x27;)),\n",
              "                                                 (&#x27;scale&#x27;, MinMaxScaler())]),\n",
              "                                 [0, 1, 2, 3, 4, 5, 6, 7, 8, 9, 11, 12, 13, 14,\n",
              "                                  20]),\n",
              "                                (&#x27;cat_pipeline&#x27;,\n",
              "                                 Pipeline(steps=[(&#x27;oe&#x27;, OrdinalEncoder()),\n",
              "                                                 (&#x27;impute&#x27;,\n",
              "                                                  SimpleImputer(strategy=&#x27;most_frequent&#x27;))]),\n",
              "                                 [10, 15, 16, 17, 18, 19])])</pre></div></div></div><div class=\"sk-parallel\"><div class=\"sk-parallel-item\"><div class=\"sk-item\"><div class=\"sk-label-container\"><div class=\"sk-label sk-toggleable\"><input class=\"sk-toggleable__control sk-hidden--visually\" id=\"sk-estimator-id-9\" type=\"checkbox\" ><label for=\"sk-estimator-id-9\" class=\"sk-toggleable__label sk-toggleable__label-arrow\">num_pipeline</label><div class=\"sk-toggleable__content\"><pre>[0, 1, 2, 3, 4, 5, 6, 7, 8, 9, 11, 12, 13, 14, 20]</pre></div></div></div><div class=\"sk-serial\"><div class=\"sk-item\"><div class=\"sk-serial\"><div class=\"sk-item\"><div class=\"sk-estimator sk-toggleable\"><input class=\"sk-toggleable__control sk-hidden--visually\" id=\"sk-estimator-id-10\" type=\"checkbox\" ><label for=\"sk-estimator-id-10\" class=\"sk-toggleable__label sk-toggleable__label-arrow\">SimpleImputer</label><div class=\"sk-toggleable__content\"><pre>SimpleImputer(strategy=&#x27;most_frequent&#x27;)</pre></div></div></div><div class=\"sk-item\"><div class=\"sk-estimator sk-toggleable\"><input class=\"sk-toggleable__control sk-hidden--visually\" id=\"sk-estimator-id-11\" type=\"checkbox\" ><label for=\"sk-estimator-id-11\" class=\"sk-toggleable__label sk-toggleable__label-arrow\">MinMaxScaler</label><div class=\"sk-toggleable__content\"><pre>MinMaxScaler()</pre></div></div></div></div></div></div></div></div><div class=\"sk-parallel-item\"><div class=\"sk-item\"><div class=\"sk-label-container\"><div class=\"sk-label sk-toggleable\"><input class=\"sk-toggleable__control sk-hidden--visually\" id=\"sk-estimator-id-12\" type=\"checkbox\" ><label for=\"sk-estimator-id-12\" class=\"sk-toggleable__label sk-toggleable__label-arrow\">cat_pipeline</label><div class=\"sk-toggleable__content\"><pre>[10, 15, 16, 17, 18, 19]</pre></div></div></div><div class=\"sk-serial\"><div class=\"sk-item\"><div class=\"sk-serial\"><div class=\"sk-item\"><div class=\"sk-estimator sk-toggleable\"><input class=\"sk-toggleable__control sk-hidden--visually\" id=\"sk-estimator-id-13\" type=\"checkbox\" ><label for=\"sk-estimator-id-13\" class=\"sk-toggleable__label sk-toggleable__label-arrow\">OrdinalEncoder</label><div class=\"sk-toggleable__content\"><pre>OrdinalEncoder()</pre></div></div></div><div class=\"sk-item\"><div class=\"sk-estimator sk-toggleable\"><input class=\"sk-toggleable__control sk-hidden--visually\" id=\"sk-estimator-id-14\" type=\"checkbox\" ><label for=\"sk-estimator-id-14\" class=\"sk-toggleable__label sk-toggleable__label-arrow\">SimpleImputer</label><div class=\"sk-toggleable__content\"><pre>SimpleImputer(strategy=&#x27;most_frequent&#x27;)</pre></div></div></div></div></div></div></div></div></div></div></div></div>"
            ]
          },
          "metadata": {},
          "execution_count": 66
        }
      ]
    },
    {
      "cell_type": "code",
      "source": [
        "X_new_tr=full_pipeline.fit_transform(X_)\n",
        "# X_new_tr_df=pd.DataFrame(full_pipeline.fit_transform(X_),columns=X_new.columns)"
      ],
      "metadata": {
        "id": "gNZ_GTedwSwG"
      },
      "execution_count": null,
      "outputs": []
    },
    {
      "cell_type": "code",
      "source": [
        "X_new_test=full_pipeline.fit_transform(test_data)"
      ],
      "metadata": {
        "id": "opn5Aiz31xkI"
      },
      "execution_count": null,
      "outputs": []
    },
    {
      "cell_type": "code",
      "source": [
        "from sklearn.metrics import accuracy_score,confusion_matrix,ConfusionMatrixDisplay,classification_report\n",
        "X_train,X_test,y_train,y_test=train_test_split(X_new_tr,y,test_size=0.25,random_state=42)"
      ],
      "metadata": {
        "id": "1yDAbvQIdHLA"
      },
      "execution_count": null,
      "outputs": []
    },
    {
      "cell_type": "code",
      "source": [
        "\"\"\"from xgboost import XGBClassifier\n",
        "for clf in (RidgeClassifierCV(alphas=(0.1,1,10,100,1000)),log_clf,sgd_clf,svm_clf,rf_clf,gb_clf,LinearSVC(),XGBClassifier()):\n",
        "  clf.fit(X_train,y_train)\n",
        "  y_pred=clf.predict(X_train)\n",
        "  if accuracy_score(y_train,y_pred)>0.63:\n",
        "    print(clf.__class__.__name__,accuracy_score(y_train,y_pred))\n",
        "    cf=confusion_matrix(y_train,y_pred,labels=clf.classes_)\n",
        "\n",
        "    dis=ConfusionMatrixDisplay(confusion_matrix=cf,display_labels=clf.classes_)\n",
        "    dis.plot()\n",
        "    plt.show()\"\"\""
      ],
      "metadata": {
        "colab": {
          "base_uri": "https://localhost:8080/",
          "height": 70
        },
        "id": "JWgCBZFL_XuP",
        "outputId": "23bbe3bf-ac7b-42c1-e099-9f187efe009a"
      },
      "execution_count": null,
      "outputs": [
        {
          "output_type": "execute_result",
          "data": {
            "text/plain": [
              "'from xgboost import XGBClassifier\\nfor clf in (RidgeClassifierCV(alphas=(0.1,1,10,100,1000)),log_clf,sgd_clf,svm_clf,rf_clf,gb_clf,LinearSVC(),XGBClassifier()):\\n  clf.fit(X_train,y_train)\\n  y_pred=clf.predict(X_train)\\n  if accuracy_score(y_train,y_pred)>0.63:\\n    print(clf.__class__.__name__,accuracy_score(y_train,y_pred))\\n    cf=confusion_matrix(y_train,y_pred,labels=clf.classes_)\\n\\n    dis=ConfusionMatrixDisplay(confusion_matrix=cf,display_labels=clf.classes_)\\n    dis.plot()\\n    plt.show()'"
            ],
            "application/vnd.google.colaboratory.intrinsic+json": {
              "type": "string"
            }
          },
          "metadata": {},
          "execution_count": 70
        }
      ]
    },
    {
      "cell_type": "code",
      "source": [
        "clf=rf_clf\n",
        "clf.fit(X_train,y_train)\n",
        "y_pred=clf.predict(X_test)\n",
        "print (y_pred,accuracy_score(y_test,y_pred))\n",
        "\n",
        ""
      ],
      "metadata": {
        "colab": {
          "base_uri": "https://localhost:8080/"
        },
        "id": "GvcSKPohekjl",
        "outputId": "091685e3-63e3-4a7a-cc28-86bff5adc249"
      },
      "execution_count": null,
      "outputs": [
        {
          "output_type": "stream",
          "name": "stdout",
          "text": [
            "[ True False False ... False False False] 0.6793374966060277\n"
          ]
        }
      ]
    },
    {
      "cell_type": "markdown",
      "source": [
        "                              PREPROCESSING COMPLTED\n",
        "\n",
        "\n",
        "\n",
        "\n"
      ],
      "metadata": {
        "id": "FKRpTsUgAgBu"
      }
    },
    {
      "cell_type": "markdown",
      "source": [
        "geting best models"
      ],
      "metadata": {
        "id": "XD8wCTz6K2qO"
      }
    },
    {
      "cell_type": "code",
      "source": [],
      "metadata": {
        "id": "dMa2YiMvK1SM"
      },
      "execution_count": null,
      "outputs": []
    },
    {
      "cell_type": "markdown",
      "source": [
        "SELECTING BEST FEATURES"
      ],
      "metadata": {
        "id": "c3M1E62IGCI6"
      }
    },
    {
      "cell_type": "code",
      "source": [
        "from sklearn.feature_selection import RFECV\n"
      ],
      "metadata": {
        "id": "VPvedE1hGBvJ"
      },
      "execution_count": null,
      "outputs": []
    },
    {
      "cell_type": "code",
      "source": [
        "selector1=RFECV(rf_clf,step=1,cv=7,min_features_to_select=13)\n",
        "selector1.fit(X_train,y_train)"
      ],
      "metadata": {
        "id": "S0RiDfKmBSUB",
        "colab": {
          "base_uri": "https://localhost:8080/",
          "height": 118
        },
        "outputId": "ac9ba0c3-e913-4323-9b89-2f6cf8115829"
      },
      "execution_count": null,
      "outputs": [
        {
          "output_type": "execute_result",
          "data": {
            "text/plain": [
              "RFECV(cv=7,\n",
              "      estimator=RandomForestClassifier(max_depth=6, n_estimators=150,\n",
              "                                       random_state=42),\n",
              "      min_features_to_select=13)"
            ],
            "text/html": [
              "<style>#sk-container-id-5 {color: black;background-color: white;}#sk-container-id-5 pre{padding: 0;}#sk-container-id-5 div.sk-toggleable {background-color: white;}#sk-container-id-5 label.sk-toggleable__label {cursor: pointer;display: block;width: 100%;margin-bottom: 0;padding: 0.3em;box-sizing: border-box;text-align: center;}#sk-container-id-5 label.sk-toggleable__label-arrow:before {content: \"▸\";float: left;margin-right: 0.25em;color: #696969;}#sk-container-id-5 label.sk-toggleable__label-arrow:hover:before {color: black;}#sk-container-id-5 div.sk-estimator:hover label.sk-toggleable__label-arrow:before {color: black;}#sk-container-id-5 div.sk-toggleable__content {max-height: 0;max-width: 0;overflow: hidden;text-align: left;background-color: #f0f8ff;}#sk-container-id-5 div.sk-toggleable__content pre {margin: 0.2em;color: black;border-radius: 0.25em;background-color: #f0f8ff;}#sk-container-id-5 input.sk-toggleable__control:checked~div.sk-toggleable__content {max-height: 200px;max-width: 100%;overflow: auto;}#sk-container-id-5 input.sk-toggleable__control:checked~label.sk-toggleable__label-arrow:before {content: \"▾\";}#sk-container-id-5 div.sk-estimator input.sk-toggleable__control:checked~label.sk-toggleable__label {background-color: #d4ebff;}#sk-container-id-5 div.sk-label input.sk-toggleable__control:checked~label.sk-toggleable__label {background-color: #d4ebff;}#sk-container-id-5 input.sk-hidden--visually {border: 0;clip: rect(1px 1px 1px 1px);clip: rect(1px, 1px, 1px, 1px);height: 1px;margin: -1px;overflow: hidden;padding: 0;position: absolute;width: 1px;}#sk-container-id-5 div.sk-estimator {font-family: monospace;background-color: #f0f8ff;border: 1px dotted black;border-radius: 0.25em;box-sizing: border-box;margin-bottom: 0.5em;}#sk-container-id-5 div.sk-estimator:hover {background-color: #d4ebff;}#sk-container-id-5 div.sk-parallel-item::after {content: \"\";width: 100%;border-bottom: 1px solid gray;flex-grow: 1;}#sk-container-id-5 div.sk-label:hover label.sk-toggleable__label {background-color: #d4ebff;}#sk-container-id-5 div.sk-serial::before {content: \"\";position: absolute;border-left: 1px solid gray;box-sizing: border-box;top: 0;bottom: 0;left: 50%;z-index: 0;}#sk-container-id-5 div.sk-serial {display: flex;flex-direction: column;align-items: center;background-color: white;padding-right: 0.2em;padding-left: 0.2em;position: relative;}#sk-container-id-5 div.sk-item {position: relative;z-index: 1;}#sk-container-id-5 div.sk-parallel {display: flex;align-items: stretch;justify-content: center;background-color: white;position: relative;}#sk-container-id-5 div.sk-item::before, #sk-container-id-5 div.sk-parallel-item::before {content: \"\";position: absolute;border-left: 1px solid gray;box-sizing: border-box;top: 0;bottom: 0;left: 50%;z-index: -1;}#sk-container-id-5 div.sk-parallel-item {display: flex;flex-direction: column;z-index: 1;position: relative;background-color: white;}#sk-container-id-5 div.sk-parallel-item:first-child::after {align-self: flex-end;width: 50%;}#sk-container-id-5 div.sk-parallel-item:last-child::after {align-self: flex-start;width: 50%;}#sk-container-id-5 div.sk-parallel-item:only-child::after {width: 0;}#sk-container-id-5 div.sk-dashed-wrapped {border: 1px dashed gray;margin: 0 0.4em 0.5em 0.4em;box-sizing: border-box;padding-bottom: 0.4em;background-color: white;}#sk-container-id-5 div.sk-label label {font-family: monospace;font-weight: bold;display: inline-block;line-height: 1.2em;}#sk-container-id-5 div.sk-label-container {text-align: center;}#sk-container-id-5 div.sk-container {/* jupyter's `normalize.less` sets `[hidden] { display: none; }` but bootstrap.min.css set `[hidden] { display: none !important; }` so we also need the `!important` here to be able to override the default hidden behavior on the sphinx rendered scikit-learn.org. See: https://github.com/scikit-learn/scikit-learn/issues/21755 */display: inline-block !important;position: relative;}#sk-container-id-5 div.sk-text-repr-fallback {display: none;}</style><div id=\"sk-container-id-5\" class=\"sk-top-container\"><div class=\"sk-text-repr-fallback\"><pre>RFECV(cv=7,\n",
              "      estimator=RandomForestClassifier(max_depth=6, n_estimators=150,\n",
              "                                       random_state=42),\n",
              "      min_features_to_select=13)</pre><b>In a Jupyter environment, please rerun this cell to show the HTML representation or trust the notebook. <br />On GitHub, the HTML representation is unable to render, please try loading this page with nbviewer.org.</b></div><div class=\"sk-container\" hidden><div class=\"sk-item sk-dashed-wrapped\"><div class=\"sk-label-container\"><div class=\"sk-label sk-toggleable\"><input class=\"sk-toggleable__control sk-hidden--visually\" id=\"sk-estimator-id-21\" type=\"checkbox\" ><label for=\"sk-estimator-id-21\" class=\"sk-toggleable__label sk-toggleable__label-arrow\">RFECV</label><div class=\"sk-toggleable__content\"><pre>RFECV(cv=7,\n",
              "      estimator=RandomForestClassifier(max_depth=6, n_estimators=150,\n",
              "                                       random_state=42),\n",
              "      min_features_to_select=13)</pre></div></div></div><div class=\"sk-parallel\"><div class=\"sk-parallel-item\"><div class=\"sk-item\"><div class=\"sk-label-container\"><div class=\"sk-label sk-toggleable\"><input class=\"sk-toggleable__control sk-hidden--visually\" id=\"sk-estimator-id-22\" type=\"checkbox\" ><label for=\"sk-estimator-id-22\" class=\"sk-toggleable__label sk-toggleable__label-arrow\">estimator: RandomForestClassifier</label><div class=\"sk-toggleable__content\"><pre>RandomForestClassifier(max_depth=6, n_estimators=150, random_state=42)</pre></div></div></div><div class=\"sk-serial\"><div class=\"sk-item\"><div class=\"sk-estimator sk-toggleable\"><input class=\"sk-toggleable__control sk-hidden--visually\" id=\"sk-estimator-id-23\" type=\"checkbox\" ><label for=\"sk-estimator-id-23\" class=\"sk-toggleable__label sk-toggleable__label-arrow\">RandomForestClassifier</label><div class=\"sk-toggleable__content\"><pre>RandomForestClassifier(max_depth=6, n_estimators=150, random_state=42)</pre></div></div></div></div></div></div></div></div></div></div>"
            ]
          },
          "metadata": {},
          "execution_count": 107
        }
      ]
    },
    {
      "cell_type": "code",
      "source": [
        "selector1.support_"
      ],
      "metadata": {
        "colab": {
          "base_uri": "https://localhost:8080/"
        },
        "id": "FYUK5lgStecY",
        "outputId": "1126ac1b-53e3-47e3-d0f7-583f09dbfee0"
      },
      "execution_count": null,
      "outputs": [
        {
          "output_type": "execute_result",
          "data": {
            "text/plain": [
              "array([ True,  True,  True,  True,  True,  True,  True,  True,  True,\n",
              "       False,  True,  True,  True,  True, False,  True,  True, False,\n",
              "        True,  True,  True])"
            ]
          },
          "metadata": {},
          "execution_count": 92
        }
      ]
    },
    {
      "cell_type": "code",
      "source": [
        "selected_features = X_train[:, selector1.support_]"
      ],
      "metadata": {
        "id": "NmzhFWVAui-o"
      },
      "execution_count": null,
      "outputs": []
    },
    {
      "cell_type": "code",
      "source": [
        "selected_features.shape"
      ],
      "metadata": {
        "colab": {
          "base_uri": "https://localhost:8080/"
        },
        "id": "9U0F1Vn4u7DR",
        "outputId": "8cab3516-fee6-4e72-c145-b50412003982"
      },
      "execution_count": null,
      "outputs": [
        {
          "output_type": "execute_result",
          "data": {
            "text/plain": [
              "(11048, 18)"
            ]
          },
          "metadata": {},
          "execution_count": 94
        }
      ]
    },
    {
      "cell_type": "code",
      "source": [
        "clf=rf_clf\n",
        "clf.fit(selected_features,y_train)\n",
        "y_pred=clf.predict(X_test[:, selector1.support_])\n",
        " # cf=confusion_matrix(y_test,y_pred,labels=clf.classes_)\n",
        "print(y_pred)\n",
        "\"\"\"print(clf.__class__.__name__,accuracy_score(y_test,y_pred),y_pred)\n",
        "cf=classification_report(y_test,y_pred)\n",
        "print(cf)\n",
        "  \"\"\""
      ],
      "metadata": {
        "colab": {
          "base_uri": "https://localhost:8080/",
          "height": 53
        },
        "id": "FuNB5SFAunVi",
        "outputId": "7e7e04fd-df8f-4b64-cd74-6118d3932d84"
      },
      "execution_count": null,
      "outputs": [
        {
          "output_type": "stream",
          "name": "stdout",
          "text": [
            "[ True False False ... False False False]\n"
          ]
        },
        {
          "output_type": "execute_result",
          "data": {
            "text/plain": [
              "'print(clf.__class__.__name__,accuracy_score(y_test,y_pred),y_pred)\\ncf=classification_report(y_test,y_pred)\\nprint(cf)\\n  '"
            ],
            "application/vnd.google.colaboratory.intrinsic+json": {
              "type": "string"
            }
          },
          "metadata": {},
          "execution_count": 97
        }
      ]
    },
    {
      "cell_type": "code",
      "source": [
        "clf=rf_clf\n",
        "clf.fit(selected_features,y_train)\n",
        "y_pred=clf.predict(X_train[:, selector1.support_])\n",
        "  # print(clf.__class__.__name__,accuracy_score(y_test,y_pred))\n",
        "  # cf=confusion_matrix(y_test,y_pred,labels=clf.classes_)\n",
        "print(y_pred)\n",
        "print(clf.__class__.__name__,accuracy_score(y_train,y_pred))\n",
        "cf=classification_report(y_train,y_pred)\n",
        "print(cf)"
      ],
      "metadata": {
        "colab": {
          "base_uri": "https://localhost:8080/"
        },
        "id": "RqlycXPdhWfk",
        "outputId": "a44e49ab-e13c-42c1-f05d-bddb5bd116ed"
      },
      "execution_count": null,
      "outputs": [
        {
          "output_type": "stream",
          "name": "stdout",
          "text": [
            "[False False False ... False False  True]\n",
            "RandomForestClassifier 0.6798515568428675\n",
            "              precision    recall  f1-score   support\n",
            "\n",
            "       False       0.67      0.94      0.78      6749\n",
            "        True       0.74      0.28      0.40      4299\n",
            "\n",
            "    accuracy                           0.68     11048\n",
            "   macro avg       0.70      0.61      0.59     11048\n",
            "weighted avg       0.70      0.68      0.63     11048\n",
            "\n"
          ]
        }
      ]
    },
    {
      "cell_type": "code",
      "source": [
        "# from sklearn.model_selection import RandomizedSearchCV\n",
        "\n",
        "# params = {\n",
        "#         'min_child_weight': [1, 5, 10],\n",
        "#         'gamma': [0.5, 1, 1.5, 2, 5],\n",
        "#         'subsample': [0.6, 0.8, 1.0],\n",
        "#         'colsample_bytree': [0.6, 0.8, 1.0],\n",
        "#         'max_depth': [3, 4, 5,7],\n",
        "\n",
        "#         }\n",
        "# xgb = XGBClassifier(learning_rate=0.02, n_estimators=600, objective='binary:logistic',\n",
        "#                     silent=True, nthread=1,nfold=3,eval_metric='logloss')\n",
        "# random_search_xgb = RandomizedSearchCV(xgb, param_distributions=params,  n_iter=3, scoring='roc_auc', n_jobs=4, cv=5,random_state=42,verbose=3)\n",
        "# random_search_xgb.fit(X_train[:, selector1.support_], y_train)"
      ],
      "metadata": {
        "id": "xXcn2Fty1sxq"
      },
      "execution_count": null,
      "outputs": []
    },
    {
      "cell_type": "code",
      "source": [
        "# best_estimator_xgb = random_search_xgb.best_estimator_\n",
        "# print(random_search_xgb.best_estimator_)\n",
        "\n",
        "# best_estimator_xgb.fit(X_train[:, selector1.support_], y_train)\n"
      ],
      "metadata": {
        "id": "7AfD9Wby2Tv8"
      },
      "execution_count": null,
      "outputs": []
    },
    {
      "cell_type": "code",
      "source": [
        "#from sklearn.model_selection import cross_val_score\n",
        "# cross_val_score(best_estimator_xgb, X_train[:, selector1.support_],y_train,cv=5,scoring='accuracy')"
      ],
      "metadata": {
        "id": "insntJ0K2wj6"
      },
      "execution_count": null,
      "outputs": []
    },
    {
      "cell_type": "code",
      "source": [
        "# pred_xgb = best_estimator_xgb.predict(X_test[:, selector1.support_])"
      ],
      "metadata": {
        "id": "5FTAN6cM2_1w"
      },
      "execution_count": null,
      "outputs": []
    },
    {
      "cell_type": "code",
      "source": [
        "# accuracy = accuracy_score(y_test,pred_xgb)\n",
        "# print(\"Accuracy:\", accuracy)"
      ],
      "metadata": {
        "id": "dNb4hl8b3C8L"
      },
      "execution_count": null,
      "outputs": []
    },
    {
      "cell_type": "code",
      "source": [
        "# y=best_estimator_xgb.predict(X_new_test[:, selector1.support_])"
      ],
      "metadata": {
        "id": "ouUEvnwO3Vch"
      },
      "execution_count": null,
      "outputs": []
    },
    {
      "cell_type": "code",
      "source": [
        "# pr4=[]\n",
        "# for i in y:\n",
        "#     if(i==1):\n",
        "#         pr4.append(True)\n",
        "#     if(i==0):\n",
        "#         pr4.append(False)"
      ],
      "metadata": {
        "id": "WBOO7siD3Sme"
      },
      "execution_count": null,
      "outputs": []
    },
    {
      "cell_type": "code",
      "source": [
        "# submission"
      ],
      "metadata": {
        "id": "50dpQVy361eQ"
      },
      "execution_count": null,
      "outputs": []
    },
    {
      "cell_type": "code",
      "source": [
        "# sample=pd.read_csv(\"/kaggle/input/e-commerce-shoppers-behaviour-understanding/sample.csv\")\n",
        "# sample.head()\n",
        "# submission=pd.DataFrame(columns=['id','Made_Purchase'])\n",
        "# submission['id']=[i for i in range (len(y))]\n",
        "# submission['Made_Purchase']=y\n",
        "# submission.to_csv('submission.csv', index=False)"
      ],
      "metadata": {
        "id": "siHcebhV3RdC"
      },
      "execution_count": null,
      "outputs": []
    },
    {
      "cell_type": "code",
      "source": [
        "#x_true,y_true=x_true[x_true.columns[:-1]],x_true.Made_Purchase"
      ],
      "metadata": {
        "id": "PCqfAkcXC7iA"
      },
      "execution_count": null,
      "outputs": []
    },
    {
      "cell_type": "code",
      "source": [
        "#x_true_new=full_pipeline.fit_transform(x_true,y_true)"
      ],
      "metadata": {
        "id": "9uWIbwW7DIHz"
      },
      "execution_count": null,
      "outputs": []
    },
    {
      "cell_type": "code",
      "source": [
        "#x_true_new"
      ],
      "metadata": {
        "colab": {
          "base_uri": "https://localhost:8080/"
        },
        "id": "YJIYCEEsDZhC",
        "outputId": "7f227b21-86e5-4291-8048-8999d766479a"
      },
      "execution_count": null,
      "outputs": [
        {
          "output_type": "execute_result",
          "data": {
            "text/plain": [
              "array([[0.11538462, 0.02584283, 0.        , ..., 1.        , 3.        ,\n",
              "        0.        ],\n",
              "       [0.38461538, 0.2958931 , 0.        , ..., 2.        , 2.        ,\n",
              "        2.        ],\n",
              "       [0.34615385, 0.03280618, 0.04166667, ..., 2.        , 3.        ,\n",
              "        0.        ],\n",
              "       ...,\n",
              "       [0.07692308, 0.02224347, 0.08333333, ..., 2.        , 3.        ,\n",
              "        2.        ],\n",
              "       [0.        , 0.        , 0.        , ..., 2.        , 2.        ,\n",
              "        0.        ],\n",
              "       [0.        , 0.        , 0.        , ..., 0.        , 0.        ,\n",
              "        1.        ]])"
            ]
          },
          "metadata": {},
          "execution_count": 83
        }
      ]
    },
    {
      "cell_type": "code",
      "source": [
        "# for clf in (RidgeClassifierCV(alphas=(0.1,1,10,100,1000)),log_clf,sgd_clf,svm_clf,rf_clf,gb_clf,LinearSVC(),XGBClassifier()):\n",
        "#   clf.fit(x_true_new,y_true)\n",
        "#   y_pred=clf.predict(x_true_new)\n",
        "#   if (accuracy_score(y_true,y_pred))>0.63:\n",
        "#     # print(clf.__class__.__name__,accuracy_score(y_test,y_pred))\n",
        "#     # cf=confusion_matrix(y_test,y_pred,labels=clf.classes_)\n",
        "#     print(y_pred)\n",
        "#     print(clf.__class__.__name__,accuracy_score(y_true,y_pred))\n",
        "#     cf=classification_report(y_true,y_pred)\n",
        "#     print(cf)"
      ],
      "metadata": {
        "id": "8KKRU6iRDlJC"
      },
      "execution_count": null,
      "outputs": []
    },
    {
      "cell_type": "code",
      "source": [
        "#from sklearn.neighbors import KNeighborsClassifier"
      ],
      "metadata": {
        "id": "vbqXODSOEKM9"
      },
      "execution_count": null,
      "outputs": []
    },
    {
      "cell_type": "code",
      "source": [
        "#kn=KNeighborsClassifier(n_neighbors=5)"
      ],
      "metadata": {
        "id": "uKax1YNbEach"
      },
      "execution_count": null,
      "outputs": []
    },
    {
      "cell_type": "code",
      "source": [
        "# y_cls=kn.fit(x_true_new,y_true)"
      ],
      "metadata": {
        "id": "gbINqEn_Eho9"
      },
      "execution_count": null,
      "outputs": []
    },
    {
      "cell_type": "code",
      "source": [
        "# print(y_cls.max())"
      ],
      "metadata": {
        "id": "-YlG9eEtE6Od"
      },
      "execution_count": null,
      "outputs": []
    },
    {
      "cell_type": "code",
      "source": [
        "# y_cl=kn.predict(X_test)"
      ],
      "metadata": {
        "id": "PAxN_V5pGfaK"
      },
      "execution_count": null,
      "outputs": []
    },
    {
      "cell_type": "code",
      "source": [
        "# cf=classification_report(y_test,y_cl)\n",
        "# print(cf)"
      ],
      "metadata": {
        "id": "VwrYImCOGoKW"
      },
      "execution_count": null,
      "outputs": []
    },
    {
      "cell_type": "code",
      "source": [
        "from sklearn.neighbors import KNeighborsTransformer\n",
        "knn_ = KNeighborsTransformer(n_neighbors=5, mode='distance')\n",
        "\n",
        "# fit the transformer on the dataset\n",
        "knn_.fit(X_train)\n",
        "\n",
        "# transform the dataset\n",
        "transformed_data = (knn_.fit_transform(X_train))"
      ],
      "metadata": {
        "id": "cXIblbj3IW5Z"
      },
      "execution_count": null,
      "outputs": []
    },
    {
      "cell_type": "code",
      "source": [
        "\"\"\"for clf in (log_clf,sgd_clf,LinearSVC()):\n",
        "  clf.fit(transformed_data,y_train)\n",
        "  y_pred=clf.predict(transformed_data)\n",
        "  if (accuracy_score(y_train,y_pred))>0.63:\n",
        "    # print(clf.__class__.__name__,accuracy_score(y_test,y_pred))\n",
        "    # cf=confusion_matrix(y_test,y_pred,labels=clf.classes_)\n",
        "    print(y_pred)\n",
        "    print(clf.__class__.__name__,accuracy_score(y_train,y_pred))\n",
        "    cf=classification_report(y_train,y_pred)\n",
        "    print(cf)\"\"\""
      ],
      "metadata": {
        "colab": {
          "base_uri": "https://localhost:8080/",
          "height": 70
        },
        "id": "KzfY4K_NKmYZ",
        "outputId": "a04e7952-ad62-4405-e630-f740ce2c9856"
      },
      "execution_count": null,
      "outputs": [
        {
          "output_type": "execute_result",
          "data": {
            "text/plain": [
              "'for clf in (log_clf,sgd_clf,LinearSVC()):\\n  clf.fit(transformed_data,y_train)\\n  y_pred=clf.predict(transformed_data)\\n  if (accuracy_score(y_train,y_pred))>0.63:\\n    # print(clf.__class__.__name__,accuracy_score(y_test,y_pred))\\n    # cf=confusion_matrix(y_test,y_pred,labels=clf.classes_)\\n    print(y_pred)\\n    print(clf.__class__.__name__,accuracy_score(y_train,y_pred))\\n    cf=classification_report(y_train,y_pred)\\n    print(cf)'"
            ],
            "application/vnd.google.colaboratory.intrinsic+json": {
              "type": "string"
            }
          },
          "metadata": {},
          "execution_count": 118
        }
      ]
    },
    {
      "cell_type": "code",
      "source": [
        "clf=LinearSVC()\n",
        "clf.fit(transformed_data,y_train)\n",
        "y_pred=clf.predict(transformed_data)\n",
        "print(y_pred)\n",
        "print(clf.__class__.__name__,accuracy_score(y_train,y_pred))\n",
        "cf=classification_report(y_train,y_pred)\n",
        "print(cf)"
      ],
      "metadata": {
        "id": "0T3WvAtv1lIx",
        "outputId": "990b8694-45fc-414a-cf3e-90da2e91cbcb",
        "colab": {
          "base_uri": "https://localhost:8080/"
        }
      },
      "execution_count": null,
      "outputs": [
        {
          "output_type": "stream",
          "name": "stdout",
          "text": [
            "[False False False ...  True False False]\n",
            "LinearSVC 0.8054851556842868\n",
            "              precision    recall  f1-score   support\n",
            "\n",
            "       False       0.80      0.91      0.85      6749\n",
            "        True       0.82      0.64      0.72      4299\n",
            "\n",
            "    accuracy                           0.81     11048\n",
            "   macro avg       0.81      0.77      0.78     11048\n",
            "weighted avg       0.81      0.81      0.80     11048\n",
            "\n"
          ]
        }
      ]
    },
    {
      "cell_type": "code",
      "source": [
        "#transformed_data_test = knn_.fit_transform(X_test)"
      ],
      "metadata": {
        "id": "iUyWmC59PbWT"
      },
      "execution_count": null,
      "outputs": []
    },
    {
      "cell_type": "code",
      "source": [
        "\"\"\"clf=rf_clf\n",
        "clf.fit(transformed_data,y_train)\n",
        "y_pred=clf.predict(transformed_data)\n",
        "print(accuracy_score(y_train,y_pred))\n",
        "print(y_pred)\"\"\""
      ],
      "metadata": {
        "colab": {
          "base_uri": "https://localhost:8080/"
        },
        "id": "NT3jod03eUoB",
        "outputId": "e4a10c48-830b-4634-80a9-5298c0279eee"
      },
      "execution_count": null,
      "outputs": [
        {
          "output_type": "stream",
          "name": "stdout",
          "text": [
            "0.6108797972483707\n",
            "[False False False ... False False False]\n"
          ]
        }
      ]
    },
    {
      "cell_type": "code",
      "source": [
        "\"\"\"for clf in (log_clf,sgd_clf,LinearSVC()):\n",
        "  clf.fit(transformed_data,y_train)\n",
        "  y_pred=clf.predict(transformed_data_test)\n",
        "\n",
        "    # print(clf.__class__.__name__,accuracy_score(y_test,y_pred))\n",
        "    # cf=confusion_matrix(y_test,y_pred,labels=clf.classes_)\n",
        "  print(y_pred)\"\"\"\n",
        "  \"\"\"print(clf.__class__.__name__,accuracy_score(y_test,y_pred))\n",
        "  cf=classification_report(y_test,y_pred)\n",
        "  print(cf)\"\"\""
      ],
      "metadata": {
        "colab": {
          "base_uri": "https://localhost:8080/",
          "height": 131
        },
        "id": "AxGZi95rOwBI",
        "outputId": "1e5ab296-86b7-4ed1-a967-20d6ece913ef"
      },
      "execution_count": null,
      "outputs": [
        {
          "output_type": "error",
          "ename": "IndentationError",
          "evalue": "ignored",
          "traceback": [
            "\u001b[0;36m  File \u001b[0;32m\"<ipython-input-101-25d433a431ef>\"\u001b[0;36m, line \u001b[0;32m8\u001b[0m\n\u001b[0;31m    \"\"\"print(clf.__class__.__name__,accuracy_score(y_test,y_pred))\u001b[0m\n\u001b[0m    ^\u001b[0m\n\u001b[0;31mIndentationError\u001b[0m\u001b[0;31m:\u001b[0m unexpected indent\n"
          ]
        }
      ]
    },
    {
      "cell_type": "code",
      "source": [
        "#test=full_pipeline.fit_transform(test_data)"
      ],
      "metadata": {
        "id": "gZbDxI74W1l8"
      },
      "execution_count": null,
      "outputs": []
    },
    {
      "cell_type": "code",
      "source": [],
      "metadata": {
        "id": "b8x_ky0nXBiR"
      },
      "execution_count": null,
      "outputs": []
    }
  ]
}